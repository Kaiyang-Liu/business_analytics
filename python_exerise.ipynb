{
  "nbformat": 4,
  "nbformat_minor": 0,
  "metadata": {
    "colab": {
      "name": "python_exerise.ipynb",
      "provenance": [],
      "collapsed_sections": [],
      "include_colab_link": true
    },
    "kernelspec": {
      "name": "python3",
      "display_name": "Python 3"
    }
  },
  "cells": [
    {
      "cell_type": "markdown",
      "metadata": {
        "id": "view-in-github",
        "colab_type": "text"
      },
      "source": [
        "<a href=\"https://colab.research.google.com/github/Kaiyang-Liu/business_analytics/blob/master/python_exerise.ipynb\" target=\"_parent\"><img src=\"https://colab.research.google.com/assets/colab-badge.svg\" alt=\"Open In Colab\"/></a>"
      ]
    },
    {
      "cell_type": "code",
      "metadata": {
        "id": "DO74sayU0SX0",
        "colab_type": "code",
        "colab": {}
      },
      "source": [
        ""
      ],
      "execution_count": null,
      "outputs": []
    },
    {
      "cell_type": "markdown",
      "metadata": {
        "id": "gc88kZHb6EbZ",
        "colab_type": "text"
      },
      "source": [
        "#The grade breakdown is as follows:\n",
        "\n",
        "- A: 90-100\n",
        "- B: 80-89\n",
        "- C: 70 - 79\n",
        "- D: 65 - 69\n",
        "- Failing: Below 65\n",
        "\n",
        "#Given the list of grades in grades_list, print the grade received by the last student in this list. So if we have\n",
        "\n",
        "    grade_list = [50, 90, 91, 88, 75]\n",
        "\n",
        "#we want to print the grade received by the student who received a 75. In this case it would be a C."
      ]
    },
    {
      "cell_type": "code",
      "metadata": {
        "id": "CeSFvhhLxebj",
        "colab_type": "code",
        "colab": {}
      },
      "source": [
        ""
      ],
      "execution_count": null,
      "outputs": []
    },
    {
      "cell_type": "markdown",
      "metadata": {
        "id": "3x_L-4Wq0W8X",
        "colab_type": "text"
      },
      "source": [
        "# Create a list L of arbitrary length. Get the median.\n",
        "\n",
        "Examples: \n",
        "\n",
        "1.   [7, 1 , 5], return 5\n",
        "2.   [8,2, 0, 1] return (1+2)/2\n",
        "\n",
        "Hint: User L.sort()     \n"
      ]
    },
    {
      "cell_type": "code",
      "metadata": {
        "id": "rdOOHURh0Zjr",
        "colab_type": "code",
        "colab": {}
      },
      "source": [
        ""
      ],
      "execution_count": null,
      "outputs": []
    },
    {
      "cell_type": "markdown",
      "metadata": {
        "id": "aVM89-zG0jTW",
        "colab_type": "text"
      },
      "source": [
        "# Generate the first N numbers of the Fibonacci sequence where \n",
        "\n",
        "$a_0 = 1$\n",
        "\n",
        "$a_1=1$\n",
        "\n",
        "$a_n = a_{n-1} + a_{n-2}$\n",
        "\n",
        "# function : fibonacii(n) : returns $n^{th}$ fibonacii number. "
      ]
    },
    {
      "cell_type": "code",
      "metadata": {
        "id": "rEUDOik307G4",
        "colab_type": "code",
        "colab": {}
      },
      "source": [
        ""
      ],
      "execution_count": null,
      "outputs": []
    },
    {
      "cell_type": "markdown",
      "metadata": {
        "id": "CVhPswCJ0-Ou",
        "colab_type": "text"
      },
      "source": [
        "# Write a function to check if the x is perfect square.  If it is, print \"x is a perfect square\".  If not print \"x is not a perfect square\"."
      ]
    },
    {
      "cell_type": "code",
      "metadata": {
        "id": "PHKe_gAl1UA5",
        "colab_type": "code",
        "colab": {}
      },
      "source": [
        ""
      ],
      "execution_count": null,
      "outputs": []
    },
    {
      "cell_type": "markdown",
      "metadata": {
        "id": "CG7IulDH1Uyx",
        "colab_type": "text"
      },
      "source": [
        ""
      ]
    }
  ]
}